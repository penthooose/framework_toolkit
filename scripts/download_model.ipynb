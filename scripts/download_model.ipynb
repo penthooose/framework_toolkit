{
 "cells": [
  {
   "cell_type": "code",
   "execution_count": null,
   "metadata": {},
   "outputs": [],
   "source": [
    "# Download models and datasets from Kaggle\n",
    "import kagglehub\n",
    "\n",
    "# Download latest version\n",
    "path = kagglehub.dataset_download(\"startalks/pii-models\")"
   ]
  },
  {
   "cell_type": "code",
   "execution_count": null,
   "metadata": {},
   "outputs": [],
   "source": [
    "# Method to download model to the standard Hugging Face cache folder\n",
    "from huggingface_hub import snapshot_download\n",
    "\n",
    "# Set your token\n",
    "hf_token = \"hf_your_token_here\"  # Replace with your actual Hugging Face token\n",
    "\n",
    "# Download the model (this will save to ~/.cache/huggingface/hub by default)\n",
    "model_path = snapshot_download(\n",
    "    repo_id=\"DiscoResearch/Llama3-DiscoLeo-Instruct-8B-v0.1\",\n",
    "    token=hf_token\n",
    ")\n",
    "\n",
    "print(f\"Model downloaded to: {model_path}\")\n"
   ]
  }
 ],
 "metadata": {
  "kernelspec": {
   "display_name": "Python 3",
   "language": "python",
   "name": "python3"
  },
  "language_info": {
   "codemirror_mode": {
    "name": "ipython",
    "version": 3
   },
   "file_extension": ".py",
   "mimetype": "text/x-python",
   "name": "python",
   "nbconvert_exporter": "python",
   "pygments_lexer": "ipython3",
   "version": "3.10.0"
  }
 },
 "nbformat": 4,
 "nbformat_minor": 2
}
